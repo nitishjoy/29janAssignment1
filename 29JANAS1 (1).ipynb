{
 "cells": [
  {
   "cell_type": "code",
   "execution_count": null,
   "id": "a2d55f19-3f4c-4e1e-9fad-e204d4718a37",
   "metadata": {},
   "outputs": [],
   "source": [
    " Q(1) -Who developed Python programming Language?\n",
    "Ans- A Dutch programmer Guido van Rossum"
   ]
  },
  {
   "cell_type": "code",
   "execution_count": null,
   "id": "4477bcce-d8d8-4675-b3fc-3d15629f580a",
   "metadata": {},
   "outputs": [],
   "source": [
    " Q(2)- Which type of Programming does Python support?\n",
    "Ans - Object-oriented programming and structured programming "
   ]
  },
  {
   "cell_type": "code",
   "execution_count": null,
   "id": "7af78f1e-52b5-4fc9-9563-a7bb8977b1fb",
   "metadata": {},
   "outputs": [],
   "source": [
    "Q(3)- Is Pyhton case sensitive when dealing with identifiers?\n",
    "Ans- Yes, Python is a case-sensitive language"
   ]
  },
  {
   "cell_type": "code",
   "execution_count": null,
   "id": "1cc0708f-cf95-476d-b0b2-c0bac695b5c5",
   "metadata": {},
   "outputs": [],
   "source": [
    "Q(4)- What is the correct extension of Pyhotn file?\n",
    "Ans- The Files with the . py extension contain the Python source code.\n",
    "  ex -.py\n",
    ".pyi\n",
    ".pyc\n",
    ".pyd\n",
    ".pyo\n",
    ".pyw\n",
    ".pyz"
   ]
  },
  {
   "cell_type": "code",
   "execution_count": null,
   "id": "fea0ad0c-b669-4d21-9890-c8a69cfc2d90",
   "metadata": {},
   "outputs": [],
   "source": [
    "Q(5)- Is Pyhton code compiled or interpreted?\n",
    "Ans-  Python is an interpreted language and not a compiled one"
   ]
  },
  {
   "cell_type": "code",
   "execution_count": null,
   "id": "8ed3baee-f710-4ebf-839d-c76fb4cedc3b",
   "metadata": {},
   "outputs": [],
   "source": [
    "Q(6)- Name a few blocks of code used to define in Pyhotn Language?\n",
    " Ans - The following are blocks: a module, a function body, and a class definition. Each command typed interactively is\n",
    "    a block."
   ]
  },
  {
   "cell_type": "code",
   "execution_count": null,
   "id": "d40eb014-5ee2-4230-aba2-08156fa6b6c7",
   "metadata": {},
   "outputs": [],
   "source": [
    "Q(7)-State a Character used to give single-line comments in Pyhton?\n",
    "Ans- Hash character(#) or it may be ## "
   ]
  },
  {
   "cell_type": "code",
   "execution_count": null,
   "id": "249ca171-0f14-4f25-9163-b49ec7d7e28a",
   "metadata": {},
   "outputs": [],
   "source": [
    "Q(8)-Mention funtions witch can help us to find the version of Pyhton that we are currently working on?\n",
    "Ans- The function sys. version can help us to find the version of python that we are currently working on"
   ]
  },
  {
   "cell_type": "code",
   "execution_count": null,
   "id": "789cd8bc-5573-4191-8ee9-b901ef999cfa",
   "metadata": {},
   "outputs": [],
   "source": [
    "Q(9) -Pyhton supports the creation of anonymous functions at runtime, using a construct called ______?\n",
    "Ans - lambda"
   ]
  },
  {
   "cell_type": "code",
   "execution_count": null,
   "id": "701ada89-ca70-417c-be93-54474775f753",
   "metadata": {},
   "outputs": [],
   "source": [
    "Q(10)- What does pip stands for Pyhotn?\n",
    "Ans - \"preferred installer program\""
   ]
  },
  {
   "cell_type": "code",
   "execution_count": null,
   "id": "7e38d7c0-885e-4796-8da0-0f5f09a9512e",
   "metadata": {},
   "outputs": [],
   "source": [
    "Q(11)- Mention a few built-in function in Pyhton?\n",
    "Ans - dict(), int(), float(), input(), len(),print(), reversed(), set(), str(), tuple(), type() ...etc."
   ]
  },
  {
   "cell_type": "code",
   "execution_count": null,
   "id": "e4ecf881-c310-4bd4-84a1-1dea614fadcf",
   "metadata": {},
   "outputs": [],
   "source": [
    "Q(12)- What is the maximum possible lenth of an identifier in Pyhton?\n",
    "Ans-  An identifier can have a maximum length of 79 characters in Python"
   ]
  },
  {
   "cell_type": "code",
   "execution_count": null,
   "id": "346887c8-efec-4f6b-85a5-0862b5cea121",
   "metadata": {},
   "outputs": [],
   "source": [
    "Q(13)- What are the benefits of using Python?\n",
    "Ans- 1) Easy to Learn and Use. ...\n",
    "2) Mature and Supportive Python Community. \n",
    "3) Support from Renowned Corporate Sponsors. \n",
    "4) Hundreds of Python Libraries and Frameworks. \n",
    "5) Versatility, Efficiency, Reliability, and Speed. \n",
    "6) Big data, Machine Learning and Cloud Computing. \n",
    "7) First-choice Language."
   ]
  },
  {
   "cell_type": "code",
   "execution_count": null,
   "id": "bdd8a6f4-0b37-4897-85ec-03f81b0b5619",
   "metadata": {},
   "outputs": [],
   "source": [
    "Q(14)- How is memory managed in Python?\n",
    "Ans- Memory management in Python involves a private heap containing all Python objects and data structures\n",
    "      Python uses a portion of the memory for internal use and non-object memory. Another part of the memory is used for Python\n",
    "    object such as int, dict, list, etc. CPython contains the object allocator that allocates memory within the object area. \n",
    "    The object allocator gets a call every time the new object needs space."
   ]
  },
  {
   "cell_type": "code",
   "execution_count": null,
   "id": "c3961fa0-380b-4c14-baee-bdaedfe94d48",
   "metadata": {},
   "outputs": [],
   "source": [
    "Q(15)- How to install Pyhotn in Windows and set path variables?\n",
    "Ans-1)-  Right-clicking This PC and going to Properties.\n",
    "\n",
    "    2)-Clicking on the Advanced system settings in the menu on the left.\n",
    "\n",
    "    3)-Clicking on the Environment Variables button o​n the bottom right.\n",
    "\n",
    "    4)_In the System variables section, selecting the Path variable and clicking on Edit. The next screen will show all\n",
    "    the directories that are currently a part of the PATH variable.\n",
    "\n",
    "     5)Clicking on New and entering Python’s install directory."
   ]
  },
  {
   "cell_type": "code",
   "execution_count": null,
   "id": "2e2816bd-bfcc-4754-ad84-f248bdf8d00d",
   "metadata": {},
   "outputs": [],
   "source": [
    "Q(16)- Is indentation is required in pyhton?\n",
    "Ans-Indentation is a very important concept of Python because without properly indenting the Python code, you will end\n",
    "up seeing IndentationError and the code will not get\n",
    "compiled"
   ]
  }
 ],
 "metadata": {
  "kernelspec": {
   "display_name": "Python 3 (ipykernel)",
   "language": "python",
   "name": "python3"
  },
  "language_info": {
   "codemirror_mode": {
    "name": "ipython",
    "version": 3
   },
   "file_extension": ".py",
   "mimetype": "text/x-python",
   "name": "python",
   "nbconvert_exporter": "python",
   "pygments_lexer": "ipython3",
   "version": "3.10.8"
  }
 },
 "nbformat": 4,
 "nbformat_minor": 5
}
